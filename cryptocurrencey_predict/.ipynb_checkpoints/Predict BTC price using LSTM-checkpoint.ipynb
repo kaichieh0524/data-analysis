{
 "cells": [
  {
   "cell_type": "markdown",
   "metadata": {},
   "source": [
    "# 預測比特幣價格"
   ]
  },
  {
   "cell_type": "markdown",
   "metadata": {},
   "source": [
    "1.專題名稱及內容概述\n",
    "\n",
    "2:資料收集\n",
    "\n",
    "3:資料預處理\n",
    "\n",
    "4:模型介紹與實現\n",
    "\n",
    "5:結論"
   ]
  },
  {
   "cell_type": "markdown",
   "metadata": {},
   "source": [
    "## 1.專題名稱及內容概述"
   ]
  },
  {
   "cell_type": "markdown",
   "metadata": {},
   "source": [
    "專題名稱:預測比特幣價格\n",
    "\n",
    "內容概述:\n",
    "利用機器學習來預測往後比特幣價格，我們收集的資料主要透過幣安交易所(Binance)的API獲取，並透過keras套件建構神經網路模型預測往後價格。\n",
    "\n",
    "其中主要利用兩種資料訓練不同模型:\n",
    "\n",
    "(一) 利用單位為\"天\"的資料，來預測七天後的價格\n",
    "\n",
    "(二) 利用單位為\"分鐘\"的資料，來預測半小時後的價格\n",
    "\n",
    "主要實現的具體作法如下:\n",
    "\n",
    "(1) 透過Binance API 獲取數據\n",
    "\n",
    "(2) 數據的處理以及reshape\n",
    "\n",
    "(3) 神經網路模型的設計\n",
    "\n",
    "(4) 結果"
   ]
  },
  {
   "cell_type": "markdown",
   "metadata": {},
   "source": [
    "## 2:資料收集"
   ]
  },
  {
   "cell_type": "markdown",
   "metadata": {},
   "source": [
    "資料來源: <br>\n",
    "\n",
    "使用幣安 API <br>\n",
    "\n",
    "https://github.com/binance-exchange/binance-official-api-docs/blob/master/rest-api.md\n",
    "\n",
    "主要獲取兩種數據:\n",
    "\n",
    "(一) 時間區間為一天\n",
    "\n",
    "(二) 時間區間為一分鐘\n",
    "\n",
    "由於幣安交易所成立於2017七月，所以我們獲取資料均為2017/08/20 到 2020/08/27\n",
    "\n",
    "詳細訪問數據代碼:\n",
    "\n",
    "https://nbviewer.jupyter.org/github/kaichieh0524/data-analysis/blob/master/cryptocurrencey_predict/get%20data%20from%20binance%20api.ipynb"
   ]
  },
  {
   "cell_type": "markdown",
   "metadata": {},
   "source": [
    "### 數據長像"
   ]
  },
  {
   "cell_type": "markdown",
   "metadata": {},
   "source": [
    "![1](https://github.com/kaichieh0524/data-analysis/blob/master/cryptocurrencey_predict/dataframe.PNG?raw=true)\n"
   ]
  },
  {
   "cell_type": "markdown",
   "metadata": {},
   "source": [
    "## 3:資料預處理"
   ]
  },
  {
   "cell_type": "markdown",
   "metadata": {},
   "source": [
    "首先我們需要處理兩種資料，第一種為''天''為單位，第二種為''分鐘''為單位。"
   ]
  },
  {
   "cell_type": "markdown",
   "metadata": {},
   "source": [
    "(一) 總資料量:1000\n",
    "\n",
    "首先我們處理單位為天的資料，我們需要分離出訓練資料與測試資料，我們舉一例子來幫助理解，假如我們拿到了30天的價格資料，我們期望如果我們輸入第一天的資料後，函數將會告訴我第八天(也就是七天後的價格)。那麼我們將 (第一天價格,第八天價格)給配對起來，直到(第二十三天價格,第三十天價格)所以將會有 23 個這種資料配對。有關於訓練資料與測試資料，我們會將總資料的80%和20%分離出來使用。\n",
    "\n",
    "而對於上述的資料，我們取出我們需要使用的特徵 open、volumn、quote_volume、trades、taker_base_volume、taker_quote_volume。因此一天的資料會是(1,6)的二維向量 。\n",
    "\n",
    "(詳細代碼將會於之後附上)"
   ]
  },
  {
   "cell_type": "markdown",
   "metadata": {},
   "source": [
    "(二)  總資料量:1588000\n",
    "\n",
    "再來我們處理單位為分鐘的資料，這次我們需要預測30分鐘之後的價格，但我們手上只有1分鐘的資料，我們採用區塊(block)的方式，把每30分鐘的資料把包成一個區塊。且有關於訓練資料與測試資料，我們會將總資料的80%和20%分離出來使用。\n",
    "\n",
    "而對於上述的資料，我們取出我們需要使用的特徵 open、volumn、quote_volume、trades、taker_base_volume、taker_quote_volume。因此一天的資料會是(50,6)的二維向量 。\n",
    "\n",
    "(詳細代碼將會於之後附上)"
   ]
  },
  {
   "cell_type": "markdown",
   "metadata": {},
   "source": [
    "## 4:模型介紹與實現"
   ]
  },
  {
   "cell_type": "markdown",
   "metadata": {},
   "source": [
    "對於此兩種資料，我們所使用的模型均為LSTM模型，loss function =MSE, optimizer= adam"
   ]
  },
  {
   "cell_type": "markdown",
   "metadata": {},
   "source": [
    "(一) 詳細模型與資料預處理代碼 (天為單位)\n",
    "\n",
    "https://github.com/kaichieh0524/data-analysis/blob/master/cryptocurrencey_predict/predict%20btc%20price%20use%20LSTM_interval_1_day.ipynb\n",
    "    \n",
    "(二) 詳細模型與資料預處理代碼 (分鐘為單位)\n",
    "\n",
    "https://github.com/kaichieh0524/data-analysis/blob/master/cryptocurrencey_predict/predict%20btc%20price%20use%20LSTM_interval_30_min.ipynb"
   ]
  },
  {
   "cell_type": "markdown",
   "metadata": {},
   "source": [
    "## 5: 結果"
   ]
  },
  {
   "cell_type": "markdown",
   "metadata": {},
   "source": [
    "### 歷史價格"
   ]
  },
  {
   "cell_type": "markdown",
   "metadata": {},
   "source": [
    "![avatar](https://github.com/kaichieh0524/data-analysis/blob/master/cryptocurrencey_predict/histroicalprice.PNG?raw=true)"
   ]
  },
  {
   "cell_type": "markdown",
   "metadata": {},
   "source": [
    "### correlation matrix"
   ]
  },
  {
   "cell_type": "markdown",
   "metadata": {},
   "source": [
    "## day\n",
    "![avatar](https://github.com/kaichieh0524/data-analysis/blob/master/cryptocurrencey_predict/corrday.PNG?raw=true)"
   ]
  },
  {
   "cell_type": "markdown",
   "metadata": {},
   "source": [
    "## min\n",
    "![avatar](https://github.com/kaichieh0524/data-analysis/blob/master/cryptocurrencey_predict/corrmin.PNG?raw=true)"
   ]
  },
  {
   "cell_type": "markdown",
   "metadata": {},
   "source": [
    "## 視覺化預測結果"
   ]
  },
  {
   "cell_type": "markdown",
   "metadata": {},
   "source": [
    "### Day"
   ]
  },
  {
   "cell_type": "markdown",
   "metadata": {},
   "source": [
    "![avatar](https://github.com/kaichieh0524/data-analysis/blob/master/cryptocurrencey_predict/1day.PNG?raw=true)"
   ]
  },
  {
   "cell_type": "markdown",
   "metadata": {},
   "source": [
    "### Min (使用jupyter widgets 互動式視覺化結果)"
   ]
  },
  {
   "cell_type": "markdown",
   "metadata": {},
   "source": [
    "![avatar](https://github.com/kaichieh0524/data-analysis/blob/master/cryptocurrencey_predict/30min.PNG?raw=true)"
   ]
  },
  {
   "cell_type": "code",
   "execution_count": null,
   "metadata": {},
   "outputs": [],
   "source": []
  }
 ],
 "metadata": {
  "kernelspec": {
   "display_name": "Python 3",
   "language": "python",
   "name": "python3"
  },
  "language_info": {
   "codemirror_mode": {
    "name": "ipython",
    "version": 3
   },
   "file_extension": ".py",
   "mimetype": "text/x-python",
   "name": "python",
   "nbconvert_exporter": "python",
   "pygments_lexer": "ipython3",
   "version": "3.8.3"
  }
 },
 "nbformat": 4,
 "nbformat_minor": 4
}
