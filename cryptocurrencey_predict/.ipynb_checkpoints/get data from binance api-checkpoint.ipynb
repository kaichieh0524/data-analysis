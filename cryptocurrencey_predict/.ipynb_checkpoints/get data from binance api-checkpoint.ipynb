{
 "cells": [
  {
   "cell_type": "code",
   "execution_count": null,
   "metadata": {},
   "outputs": [],
   "source": [
    "import requests\n",
    "import time\n",
    "import pandas as pd\n",
    "import matplotlib.pyplot as plt\n",
    "import matplotlib.dates as md\n",
    "import numpy as np\n",
    "import datetime as dt"
   ]
  },
  {
   "cell_type": "code",
   "execution_count": null,
   "metadata": {},
   "outputs": [],
   "source": [
    "pd.set_option('expand_frame_repr', False)\n",
    "base_url = 'https://api.binance.com'\n",
    "kline = '/api/v1/klines'"
   ]
  },
  {
   "cell_type": "markdown",
   "metadata": {},
   "source": [
    "# get historical price of BTC"
   ]
  },
  {
   "cell_type": "markdown",
   "metadata": {},
   "source": [
    "## interval 1 day"
   ]
  },
  {
   "cell_type": "code",
   "execution_count": null,
   "metadata": {},
   "outputs": [],
   "source": [
    "low_bound =1503158400000 #2017/08/20 00:00:00\n",
    "limit = 1000\n",
    "end_time = int(time.time() // 60 * 60 * 1000)\n",
    "start_time = int(end_time - limit *60 *1000*60*24)\n",
    "df = pd.DataFrame()\n",
    "while True:\n",
    "    df = pd.DataFrame()\n",
    "    if (start_time < low_bound):\n",
    "        break    \n",
    "    url = base_url + kline + '?' + 'symbol=BTCUSDT&interval=1d&limit=' +str(limit) + '&startTime=' + str(start_time) \n",
    "    resp = requests.get(url)\n",
    "    data = resp.json()\n",
    "    df = pd.DataFrame(data, columns={'open_time': 0, 'open' : 1, 'high' : 2, 'low' : 3, 'close' : 4, 'volume' : 5, 'close_time' : 6, 'quote_volume' : 7, 'trades' : 8, 'taker_base_volue' : 9, 'taker_quote_volume' : 10, 'ignore' : 11} )\n",
    "    df.insert (1, \"time\", pd.to_datetime(df['open_time'], unit='ms'))\n",
    "    df['open_time'] = pd.to_datetime(df['open_time'], unit='ms')\n",
    "    df.set_index('open_time', inplace=True)\n",
    "    df.to_excel('/home/kai/文件/btcdata_1d/'+str(end_time)+'.xlsx',)    \n",
    "    end_time = start_time\n",
    "    start_time =  int(start_time - limit *60 *1000*60*24)\n"
   ]
  },
  {
   "cell_type": "markdown",
   "metadata": {},
   "source": [
    "## interval 1 min"
   ]
  },
  {
   "cell_type": "code",
   "execution_count": null,
   "metadata": {},
   "outputs": [],
   "source": [
    "low_bound =1503158400000 #2017/08/20 00:00:00\n",
    "limit = 1000\n",
    "end_time = int(time.time() // 60 * 60 * 1000)\n",
    "start_time = int(end_time - limit *60 *1000)\n",
    "df = pd.DataFrame()\n",
    "while True:\n",
    "    df = pd.DataFrame()\n",
    "    if (start_time < low_bound):\n",
    "        break    \n",
    "    url = base_url + kline + '?' + 'symbol=BTCUSDT&interval=1m&limit=' +str(limit) + '&startTime=' + str(start_time) \n",
    "    resp = requests.get(url)\n",
    "    data = resp.json()\n",
    "    df = pd.DataFrame(data, columns={'open_time': 0, 'open' : 1, 'high' : 2, 'low' : 3, 'close' : 4, 'volume' : 5, 'close_time' : 6, 'quote_volume' : 7, 'trades' : 8, 'taker_base_volue' : 9, 'taker_quote_volume' : 10, 'ignore' : 11} )\n",
    "    df.insert (1, \"time\", pd.to_datetime(df['open_time'], unit='ms'))\n",
    "    df['open_time'] = pd.to_datetime(df['open_time'], unit='ms')\n",
    "    df.set_index('open_time', inplace=True)\n",
    "    df.to_excel('/home/kai/文件/btcdata_1m/'+str(end_time)+'.xlsx',)    \n",
    "    end_time = start_time\n",
    "    start_time =  int(start_time - limit *60 *1000)"
   ]
  },
  {
   "cell_type": "markdown",
   "metadata": {},
   "source": [
    "## restore data into to excel files"
   ]
  },
  {
   "cell_type": "code",
   "execution_count": null,
   "metadata": {},
   "outputs": [],
   "source": [
    "df = pd.DataFrame()\n",
    "start = 1503275820000\n",
    "end = 1598495820000 + 1\n",
    "for i in range(start,end,60*1000*1000):\n",
    "    df_temp = pd.read_excel('/home/kai/文件/btcdata_1m/'+str(i)+'.xlsx')\n",
    "    df = pd.concat([df,df_temp])\n",
    "    print(i)\n",
    "\n",
    "dfs = np.split(df, [int(1588000/2)], axis=0)\n",
    "dfs[0].to_excel('/home/kai/文件/btcdata_1m/'+'total_data_1min_1'+'.xlsx')\n",
    "dfs[1].to_excel('/home/kai/文件/btcdata_1m/'+'total_data_1min_2'+'.xlsx')"
   ]
  }
 ],
 "metadata": {
  "kernelspec": {
   "display_name": "Python 3",
   "language": "python",
   "name": "python3"
  },
  "language_info": {
   "codemirror_mode": {
    "name": "ipython",
    "version": 3
   },
   "file_extension": ".py",
   "mimetype": "text/x-python",
   "name": "python",
   "nbconvert_exporter": "python",
   "pygments_lexer": "ipython3",
   "version": "3.8.3"
  }
 },
 "nbformat": 4,
 "nbformat_minor": 2
}
